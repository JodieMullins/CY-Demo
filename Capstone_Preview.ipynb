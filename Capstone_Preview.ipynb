{
 "cells": [
  {
   "cell_type": "code",
   "execution_count": 1,
   "id": "29d2ef0f",
   "metadata": {},
   "outputs": [],
   "source": [
    "# all necessary imports                          USAGE:\n",
    "import sqlite3 as db                 # database holding information\n",
    "import matplotlib.pyplot as plt      # graph / chart visuals             \n",
    "import pandas as pd                  # data manipulation / cleaning / calculations\n",
    "import numpy as np                   # data manipulation / array creation\n",
    "import csv                           # file creation and export outside of Notebook"
   ]
  },
  {
   "cell_type": "markdown",
   "id": "0937ae80",
   "metadata": {},
   "source": [
    "# About The Data\n",
    "\n",
    "This data is the overview of a custom design shop specializing in shoes. All data has been created using Mockaroo.com and Google Sheets, as well as various csv-json conversion sites.\n",
    "\n",
    "I have created this project with the idea that someone has a custom shoe design 'side hustle' they tend to. After successfully tending to over 100 customers over the course of approximately three years, I have decided to deep dive into the data to discover insight that may help lead to identifying where my market exists and where to look for investors for related and various other upcoming projects.\n",
    "\n",
    "Currently, I know I want to focus on answering questions related to profits for the business. \n",
    "\n",
    "In the future, there could be a storefront, and this data will help determine where that storefront would potentially be most profitable.\n",
    "\n",
    "---------------------------------------------------------------------------------------\n",
    "\n",
    "Some fun nuance exists and assumptions are to be made:"
   ]
  },
  {
   "cell_type": "markdown",
   "id": "24b3464b",
   "metadata": {},
   "source": [
    "1. Any and all items priced below 250.00 must be assumed to be shoe adornments.\n",
    "\n",
    "    * My favorite styles for customizable shoes cannot be purchased for less than the standard box price of 250.00.\n",
    "    * Prices include taxes and shipping respectively"
   ]
  },
  {
   "cell_type": "markdown",
   "id": "2ae72e78",
   "metadata": {},
   "source": [
    "2. We can assume the possibilty exists within the data for the customer address fields to not be the same as the delivery address fields.\n",
    "\n",
    "   * May not be assumed that 'delivery customer first' will always match 'customer first'."
   ]
  },
  {
   "cell_type": "markdown",
   "id": "7378ccc6",
   "metadata": {},
   "source": [
    "3. The 'design' column contains only unique values; the assumption exists that each order is an individual, one-of-a-kind shipment that cannot be reproduced.\n",
    "\n",
    "    * All sales without an SKU are customized shoes.\n",
    "    * All sales with an SKU are unique hand-designed hardware adornment pieces to decorate a pair of shoes already owned."
   ]
  },
  {
   "cell_type": "markdown",
   "id": "070855f9",
   "metadata": {},
   "source": [
    "## Please ensure the KQ Database has been created\n",
    "\n",
    "   * In **VSCode** or **PyCharm**, navigate to the the \"RunDatabaseFile\" and press the green arrow or 'Run' button. \n",
    "      * A new file will appear in the left-side window called 'KQBase'\n",
    "      * In **PyCharm** running the file will also create an \".idea\" folder. \n",
    "      \n",
    "      \n",
    "   * *Alternatively, you may run the cell below, which is a script to automatically run the Database file for you.*\n",
    "    "
   ]
  },
  {
   "cell_type": "code",
   "execution_count": 2,
   "id": "2d6fc3ed",
   "metadata": {},
   "outputs": [],
   "source": [
    "!python DatabaseRunFile.py"
   ]
  },
  {
   "cell_type": "markdown",
   "id": "63c05c5f",
   "metadata": {},
   "source": [
    "## Ensure all data has made it to the database\n",
    "\n",
    "I had three files to manage within my database: customers, deliveries, and profit.\n",
    "\n",
    "I already know each file contained exactly 100 entries, so 3 x 100 means 300 is the magic number necessary when adding my database table entries together.\n"
   ]
  },
  {
   "cell_type": "code",
   "execution_count": 3,
   "id": "9a8a7ea9",
   "metadata": {},
   "outputs": [
    {
     "name": "stdout",
     "output_type": "stream",
     "text": [
      "300\n"
     ]
    }
   ],
   "source": [
    "# first connect to the database                            ! ++  !  ++  !  \n",
    "conn = db.connect('KQBase.db')   ##### DO NOT RUN THIS - \n",
    "\n",
    "#                                               NOTEBOOK WILL BREAK IN CY:DEMO REPOSITORY\n",
    "\n",
    "                                                ##### DISPLAY PURPOSES ONLY \n",
    "                                                                 \n",
    "#                                                         ! **  ! **  ! \n",
    "\n",
    "\n",
    "\n",
    "# create cursor to execute sql commands\n",
    "click = conn.cursor()\n",
    "\n",
    "# I need a query to ask my database how many records exist in my tables respectively\n",
    "customer_query = ('''SELECT COUNT(*) FROM customer''')\n",
    "delivery_query = ('''SELECT COUNT(*) FROM delivery''')\n",
    "profit_query = ('''SELECT COUNT(*) FROM profit''')\n",
    "\n",
    "# a variable to hold the query execution\n",
    "cus_count = click.execute(customer_query).fetchall()\n",
    "del_count = click.execute(delivery_query).fetchall()\n",
    "prof_count = click.execute(profit_query).fetchall()\n",
    "\n",
    "\n",
    "# Let's use some string formatting\n",
    "fmt = \"{0}\" # string creation; indexed placeholder for item I want returned so that I can format it\n",
    "\n",
    "# method to keep count of the iterations for query\n",
    "# for how many times in customer_rows the query executed\n",
    "for c in cus_count:\n",
    "    \n",
    "    cus = int(fmt.format(*c)) #integer casting for easy adding of the variable elsewhere\n",
    "\n",
    "for d in del_count:\n",
    "    deliv = int(fmt.format(*d))\n",
    "\n",
    "for p in prof_count:\n",
    "    prof = int(fmt.format(*p))\n",
    "    \n",
    "    # I need to print the informtion I query for\n",
    "    print(cus+deliv+prof)"
   ]
  },
  {
   "cell_type": "markdown",
   "id": "a65ec791",
   "metadata": {},
   "source": [
    "## I must tend to my email list\n",
    "\n",
    "To thank my wonderful investors, I have developed a birthday giveaway in which I email out gift cards. \n",
    "\n",
    "I want to ensure I'm not sending out multiple gift cards to the same customer, though."
   ]
  },
  {
   "cell_type": "code",
   "execution_count": 4,
   "id": "08f8e4f1",
   "metadata": {},
   "outputs": [
    {
     "name": "stdout",
     "output_type": "stream",
     "text": [
      "Must match  100 to <100> exactly.\n",
      "100 unique emails exist within the database.\n"
     ]
    }
   ],
   "source": [
    "# python variable to hold the sql query\n",
    "email_repeat_query = '''SELECT DISTINCT COUNT (email) FROM customer'''\n",
    "\n",
    "# for every iteration in each selection of the query\n",
    "for e in click.execute(email_repeat_query).fetchall():\n",
    "    \n",
    "    e_repeats = fmt.format(*e)                                      # formatting statement to clean data\n",
    "    \n",
    "    print(\"Must match \", e_repeats, \"to <100> exactly.\")            # queried count to required count  \n",
    "    \n",
    "    print(e_repeats,\"unique emails exist within the database.\")     # total query count statement"
   ]
  },
  {
   "cell_type": "markdown",
   "id": "33533915",
   "metadata": {},
   "source": [
    "I have confirmed with the email_repeat_query that I have exactly 100 unique emails accounting for all 100 of my customers."
   ]
  },
  {
   "cell_type": "markdown",
   "id": "45ead4d1",
   "metadata": {},
   "source": [
    "## I have two types of gifts available:\n",
    "\n",
    "1. All-purpose gift cards with set balances of 15.00 dollars\n",
    "2. iTunes gift cards with set balances of 15.00 dollars\n",
    "\n",
    "To help me split the population between these two options, I choose to make an assumption of which to base my condition upon.\n",
    "\n",
    "I make an assumption that older generations will enjoy general purpose giftcards more than iTunes-specific giftcards."
   ]
  },
  {
   "cell_type": "code",
   "execution_count": 5,
   "id": "34db8727",
   "metadata": {},
   "outputs": [
    {
     "name": "stdout",
     "output_type": "stream",
     "text": [
      "Raymund, 1930-10-02 --> rpostlethwaite2@nasa.gov\n",
      " \n",
      "Karissa, 1938-10-04 --> kwannes22@sciencedaily.com\n",
      " \n",
      "Tersina, 1941-10-27 --> tyoud1v@joomla.org\n",
      " \n",
      "Christean, 1953-10-18 --> csanchez1d@g.co\n",
      " \n",
      "Jody, 1962-10-04 --> jwillatts0@wordpress.com\n",
      " \n",
      "Therese, 1968-10-08 --> tchristmas4@1und1.de\n",
      " \n",
      "Juliane, 1968-10-29 --> jbirtle25@cnn.com\n",
      " \n",
      "Aaren, 1984-10-12 --> akemmr@patch.com\n",
      " \n",
      "Goddart, 1993-10-12 --> grootc@columbia.edu\n",
      " \n"
     ]
    }
   ],
   "source": [
    "# Pretending it's September now, I realize I need to filter by month as well. \n",
    "# I'm going to start now, looking at October. \n",
    "# Small edits can be made to make notebook re-usable OR monthly queries could be fed into notebook\n",
    "\n",
    "# sql query\n",
    "query_october_cards = ('''SELECT first, birthdate, email\n",
    "                FROM customer\n",
    "                WHERE (birthdate LIKE '%-10-%') AND (birthdate <= '1994-12-31')\n",
    "                ORDER BY birthdate''')\n",
    "\n",
    "# execute query\n",
    "october_cards = click.execute(query_october_cards)\n",
    "\n",
    "\n",
    "# style of formatting\n",
    "em_fmt = \"{0}, {1} --> {2}\" \n",
    "\n",
    "# for each query output selected from fetching all instances of the oct-gift-card-query\n",
    "for otc in october_cards.fetchall():\n",
    "    \n",
    "    #format each line of output\n",
    "    october_cards = em_fmt.format(*otc)\n",
    "    \n",
    "    #print each line of output for user to see\n",
    "    print(october_cards, end='\\n \\n')"
   ]
  },
  {
   "cell_type": "code",
   "execution_count": 6,
   "id": "307076ee",
   "metadata": {},
   "outputs": [
    {
     "name": "stdout",
     "output_type": "stream",
     "text": [
      "Merna, 1998-10-19 --> mshakesby1s@flavors.me\n"
     ]
    }
   ],
   "source": [
    "# Now I'm going to determine the october itunes cards to prepare: \n",
    "\n",
    "# sql query\n",
    "query_oct_itunes = ('''SELECT first, birthdate, email\n",
    "                FROM customer\n",
    "                WHERE (birthdate LIKE '%-10-%') AND (birthdate > '1994-12-31')\n",
    "                ORDER BY birthdate''')\n",
    "\n",
    "# view query result\n",
    "for octunes in click.execute(query_oct_itunes).fetchall():\n",
    "    october_itunes_cards = em_fmt.format(*octunes)\n",
    "    print(october_itunes_cards)"
   ]
  },
  {
   "cell_type": "code",
   "execution_count": 7,
   "id": "5a009a44",
   "metadata": {},
   "outputs": [
    {
     "data": {
      "text/plain": [
       "53"
      ]
     },
     "execution_count": 7,
     "metadata": {},
     "output_type": "execute_result"
    }
   ],
   "source": [
    "# Let's say I wanted to save a record of my October iTunes to a csv as well\n",
    "\n",
    "# AVAILABLE OPTION FOR LIMITED WRITING OUTPUT\n",
    "# THIS BOX MUST SPECIFICALLY BE RAN TWICE IN ORDER FOR DOCUMENT TO FULLY POPULATE\n",
    "# RUNNING BOX ONCE SIMPLY CREATES FILE, RUNNING TWICE POPULATES\n",
    "\n",
    "#create new file name\n",
    "ELName = 'info/Oct_iTunes_Email.csv'\n",
    "\n",
    "# execute query\n",
    "october_cards = click.execute(query_oct_itunes).fetchall()\n",
    "\n",
    "# create, open document\n",
    "# write to that document given specific parameters\n",
    "iTunesOctober = csv.writer(open(ELName, 'w', newline='\\n'),\n",
    "                         delimiter=' ', lineterminator='\\r\\n',\n",
    "                        quoting=csv.QUOTE_NONE, escapechar=' ')\n",
    "\n",
    "# write headers\n",
    "#iTunesOctober.writerow(headers)\n",
    "# write email list\n",
    "iTunesOctober.writerow(october_cards)\n",
    "\n",
    "# Output number may act as verification count in VSCode when highlighting entire document at  --  Ln, Col (count)"
   ]
  },
  {
   "cell_type": "markdown",
   "id": "bad548c1",
   "metadata": {},
   "source": [
    "## I need to dig into the data for where to put my storefront\n",
    "\n",
    "This requires inserting the information from my database, which has already been created using three separate files in csv and json format, and turning the tables into dataframes using pandas."
   ]
  },
  {
   "cell_type": "code",
   "execution_count": 8,
   "id": "fbb6d2af",
   "metadata": {},
   "outputs": [
    {
     "name": "stdout",
     "output_type": "stream",
     "text": [
      "   customer_id   first      last                     email  \\\n",
      "0            1    Jody  Willatts  jwillatts0@wordpress.com   \n",
      "1            2  Ginger   McGinny         gmcginny1@hhs.gov   \n",
      "\n",
      "                  street    city       state  zip_code   birthdate     payment  \n",
      "0  61293 Karstens Avenue   Miami     Florida     33164  1962-10-04  mastercard  \n",
      "1     107 Golf View Road  Orange  California     92668  1946-08-24  mastercard  \n"
     ]
    }
   ],
   "source": [
    "customer_df = pd.read_sql_query(\"SELECT * FROM customer\", conn)\n",
    "\n",
    "print(customer_df.head(2))"
   ]
  },
  {
   "cell_type": "code",
   "execution_count": 9,
   "id": "b2445522",
   "metadata": {},
   "outputs": [],
   "source": [
    "# Repeat the process for delivery and profit as well\n",
    "delivery_df = pd.read_sql_query(\"SELECT * FROM delivery\", conn)\n",
    "profit_df = pd.read_sql_query(\"SELECT * FROM profit\", conn)"
   ]
  },
  {
   "cell_type": "markdown",
   "id": "a8330f14",
   "metadata": {},
   "source": [
    "### I want an idea of how frequently orders were sold at which price ranges\n",
    "\n",
    "This will give me an overall idea of the general price range I may be focusing on in the future."
   ]
  },
  {
   "cell_type": "code",
   "execution_count": 10,
   "id": "a0dd7ef4",
   "metadata": {},
   "outputs": [
    {
     "data": {
      "image/png": "[encoded data removed]",
      "text/plain": [
       "<Figure size 640x480 with 1 Axes>"
      ]
     },
     "metadata": {},
     "output_type": "display_data"
    }
   ],
   "source": [
    "# create profit dataframe\n",
    "freq_sold_df = profit_df.copy()     # use a copy to keep clean dataframe for this particular problem\n",
    "\n",
    "# establish histogram that shows which price ranges of purses had the most sales\n",
    "fs_gram = freq_sold_df.plot(kind= 'hist', x = 'design', y= 'sold')\n",
    "\n",
    "# label x axis\n",
    "plt.xlabel('$')\n",
    "\n",
    "# clean output \n",
    "plt.tight_layout()\n",
    "\n",
    "\n",
    "# This graph displays over the course of 100 customers \n",
    "# Each bar shows the cost at which each customer purchased a custom design"
   ]
  },
  {
   "cell_type": "markdown",
   "id": "7eff7a92",
   "metadata": {},
   "source": [
    "Wow. So this tells me I sold over 12 orders that were at both of my highest price ranges. I don't have to worry that I'm overpricing my items, but from this visual I would like to believe that I will also have room to continue selling adornments and easier designs in the future."
   ]
  },
  {
   "cell_type": "markdown",
   "id": "d0067541",
   "metadata": {},
   "source": [
    "### Now to look into my average sale price per state"
   ]
  },
  {
   "cell_type": "code",
   "execution_count": 32,
   "id": "90115afd",
   "metadata": {},
   "outputs": [
    {
     "data": {
      "text/html": [
       "<div>\n",
       "<style scoped>\n",
       "    .dataframe tbody tr th:only-of-type {\n",
       "        vertical-align: middle;\n",
       "    }\n",
       "\n",
       "    .dataframe tbody tr th {\n",
       "        vertical-align: top;\n",
       "    }\n",
       "\n",
       "    .dataframe thead th {\n",
       "        text-align: right;\n",
       "    }\n",
       "</style>\n",
       "<table border=\"1\" class=\"dataframe\">\n",
       "  <thead>\n",
       "    <tr style=\"text-align: right;\">\n",
       "      <th></th>\n",
       "      <th>Average Price Sold</th>\n",
       "    </tr>\n",
       "    <tr>\n",
       "      <th>state</th>\n",
       "      <th></th>\n",
       "    </tr>\n",
       "  </thead>\n",
       "  <tbody>\n",
       "    <tr>\n",
       "      <th>Georgia</th>\n",
       "      <td>2641.08</td>\n",
       "    </tr>\n",
       "    <tr>\n",
       "      <th>Minnesota</th>\n",
       "      <td>2097.40</td>\n",
       "    </tr>\n",
       "    <tr>\n",
       "      <th>Florida</th>\n",
       "      <td>1679.62</td>\n",
       "    </tr>\n",
       "    <tr>\n",
       "      <th>California</th>\n",
       "      <td>1603.76</td>\n",
       "    </tr>\n",
       "    <tr>\n",
       "      <th>Wisconsin</th>\n",
       "      <td>1469.30</td>\n",
       "    </tr>\n",
       "    <tr>\n",
       "      <th>Michigan</th>\n",
       "      <td>1401.26</td>\n",
       "    </tr>\n",
       "    <tr>\n",
       "      <th>Alabama</th>\n",
       "      <td>926.12</td>\n",
       "    </tr>\n",
       "    <tr>\n",
       "      <th>Louisiana</th>\n",
       "      <td>882.35</td>\n",
       "    </tr>\n",
       "    <tr>\n",
       "      <th>Oregon</th>\n",
       "      <td>682.00</td>\n",
       "    </tr>\n",
       "  </tbody>\n",
       "</table>\n",
       "</div>"
      ],
      "text/plain": [
       "            Average Price Sold\n",
       "state                         \n",
       "Georgia                2641.08\n",
       "Minnesota              2097.40\n",
       "Florida                1679.62\n",
       "California             1603.76\n",
       "Wisconsin              1469.30\n",
       "Michigan               1401.26\n",
       "Alabama                 926.12\n",
       "Louisiana               882.35\n",
       "Oregon                  682.00"
      ]
     },
     "metadata": {},
     "output_type": "display_data"
    }
   ],
   "source": [
    "# establish clean dataframe displaying average price sold per state\n",
    "state_averages = delivery_df.copy().groupby('state')[['sold']].mean()\n",
    "\n",
    "# sort that dataframe in order of average price sold \n",
    "# round state averages to 2 decimal places\n",
    "state_averages = round(state_averages.sort_values('sold', ascending=False), 2)\n",
    "\n",
    "# rename 'Total Profit' column because we just took the average\n",
    "state_averages.columns = ['Average Price Sold']\n",
    "\n",
    "display(state_averages)"
   ]
  },
  {
   "cell_type": "markdown",
   "id": "0fde5827",
   "metadata": {},
   "source": [
    "As far as the average sale price, I'm clearly selling a lot of shoes.\n",
    "\n",
    "What about my underlying adornment market, though?\n",
    "\n",
    "I know that anywhere I made a sale at less than 250.00 dollars, I did not sell a pair of shoes but instead a handmade adornment piece for shoes someone already owned.\n",
    "\n",
    "For adornment pieces, I might have a less standard process than I would follow if simply designing a stock pair of shoes. The customer may have specific colors or characters they request, which is typical, but these pieces are more like construction-set creations than paintings. They are a bit more involved and restrictive given the pieces I have to work with and the requests that may come in.\n",
    "\n",
    "It's a bit of a niche market, and I have to ensure I have a solid fan base and profit to continue this area of my business.\n",
    "\n",
    "I also know that within my profit dataset, no SKU available means I bought shoes to design instead. I had a 100 customers total, so let me see how many adornment pieces were ordered out of those."
   ]
  },
  {
   "cell_type": "code",
   "execution_count": 12,
   "id": "fec3643b",
   "metadata": {},
   "outputs": [
    {
     "name": "stdout",
     "output_type": "stream",
     "text": [
      "   customer_id  design    sold  bought\n",
      "1            4     873  208.87   50.23\n",
      "2           25     454   37.19   10.99\n",
      "3           40     749   63.65   10.99\n",
      "4           67     740   50.64   10.99\n",
      "5           76     436  227.95   50.23\n",
      "6           89     883  106.53   31.23\n",
      "7           91     756  132.39   50.23\n",
      "8           93     838   52.56   10.99\n",
      "9           94     936  132.34   50.23\n"
     ]
    }
   ],
   "source": [
    "# create a variable holding a copy dataframe for clean working space\n",
    "adornments_df = profit_df.copy()\n",
    "\n",
    "# create dataframe with adornments only and reset index to 0\n",
    "adornments_df = adornments_df.dropna().reset_index()\n",
    "\n",
    "# display specific columns (Customer, purse, and price for which the piece sold)\n",
    "adornments_df = adornments_df.iloc[:, [1, 3, 4, 6]]\n",
    "\n",
    "# to make it easier to count at a glance, I want to restart the index at 1\n",
    "adornments_df.index = np.arange(1, len(adornments_df) +1 )\n",
    "\n",
    "print(adornments_df) #visually less appealing than display"
   ]
  },
  {
   "cell_type": "markdown",
   "id": "7d248cad",
   "metadata": {},
   "source": [
    "I had exactly 9 customers that I sold adornments to! Okay, so definitely not my cash cow currently, but that is almost ten percent of my customer base."
   ]
  },
  {
   "cell_type": "code",
   "execution_count": 13,
   "id": "d61eec86",
   "metadata": {},
   "outputs": [
    {
     "data": {
      "image/png": "[encoded data removed]",
      "text/plain": [
       "<Figure size 300x300 with 1 Axes>"
      ]
     },
     "metadata": {},
     "output_type": "display_data"
    }
   ],
   "source": [
    "# establish bar graph for overall idea of adornment profitability\n",
    "adorn_graph = adornments_df.plot(kind=\"bar\", \n",
    "                                 x=\"design\", \n",
    "                                 y=\"sold\",  \n",
    "                                 color = 'orange', \n",
    "                                 figsize=(3,3)) \n",
    "\n",
    "\n",
    "#label x and y\n",
    "adorn_graph = plt.xlabel('Adornment')\n",
    "adorn_graph = plt.ylabel('Price $')\n",
    "\n",
    "# clean output \n",
    "plt.tight_layout()\n",
    "\n",
    "\n",
    "\n",
    "\n",
    "# This bar graph displays:\n",
    "#   all nine adornment pieces \n",
    "#      -- by identification number \n",
    "#       and \n",
    "#      -- approximately how much each sold for"
   ]
  },
  {
   "cell_type": "markdown",
   "id": "b5fbdaba",
   "metadata": {},
   "source": [
    "Judging by this graph, I may have room to increase my prices on my shoe adornment prices. \n",
    "\n",
    "Only two sold for over 150.00 dollars, but I might want to consider rounding out my price range of my lowest-priced adornments closer to 100.00 dollars or more. "
   ]
  },
  {
   "cell_type": "markdown",
   "id": "1b0ab67a",
   "metadata": {},
   "source": [
    "### Time to break down adornment piece investors by state"
   ]
  },
  {
   "cell_type": "code",
   "execution_count": 14,
   "id": "4179194b",
   "metadata": {},
   "outputs": [
    {
     "data": {
      "text/html": [
       "<div>\n",
       "<style scoped>\n",
       "    .dataframe tbody tr th:only-of-type {\n",
       "        vertical-align: middle;\n",
       "    }\n",
       "\n",
       "    .dataframe tbody tr th {\n",
       "        vertical-align: top;\n",
       "    }\n",
       "\n",
       "    .dataframe thead th {\n",
       "        text-align: right;\n",
       "    }\n",
       "</style>\n",
       "<table border=\"1\" class=\"dataframe\">\n",
       "  <thead>\n",
       "    <tr style=\"text-align: right;\">\n",
       "      <th></th>\n",
       "      <th>customer_id</th>\n",
       "      <th>Total Profit</th>\n",
       "    </tr>\n",
       "  </thead>\n",
       "  <tbody>\n",
       "    <tr>\n",
       "      <th>1</th>\n",
       "      <td>4</td>\n",
       "      <td>158.64</td>\n",
       "    </tr>\n",
       "    <tr>\n",
       "      <th>2</th>\n",
       "      <td>25</td>\n",
       "      <td>26.20</td>\n",
       "    </tr>\n",
       "    <tr>\n",
       "      <th>3</th>\n",
       "      <td>40</td>\n",
       "      <td>52.66</td>\n",
       "    </tr>\n",
       "    <tr>\n",
       "      <th>4</th>\n",
       "      <td>67</td>\n",
       "      <td>39.65</td>\n",
       "    </tr>\n",
       "    <tr>\n",
       "      <th>5</th>\n",
       "      <td>76</td>\n",
       "      <td>177.72</td>\n",
       "    </tr>\n",
       "    <tr>\n",
       "      <th>6</th>\n",
       "      <td>89</td>\n",
       "      <td>75.30</td>\n",
       "    </tr>\n",
       "    <tr>\n",
       "      <th>7</th>\n",
       "      <td>91</td>\n",
       "      <td>82.16</td>\n",
       "    </tr>\n",
       "    <tr>\n",
       "      <th>8</th>\n",
       "      <td>93</td>\n",
       "      <td>41.57</td>\n",
       "    </tr>\n",
       "    <tr>\n",
       "      <th>9</th>\n",
       "      <td>94</td>\n",
       "      <td>82.11</td>\n",
       "    </tr>\n",
       "  </tbody>\n",
       "</table>\n",
       "</div>"
      ],
      "text/plain": [
       "   customer_id  Total Profit\n",
       "1            4        158.64\n",
       "2           25         26.20\n",
       "3           40         52.66\n",
       "4           67         39.65\n",
       "5           76        177.72\n",
       "6           89         75.30\n",
       "7           91         82.16\n",
       "8           93         41.57\n",
       "9           94         82.11"
      ]
     },
     "metadata": {},
     "output_type": "display_data"
    }
   ],
   "source": [
    "# establish adornment profit\n",
    "adornment_profit = profit_df.copy().dropna().reset_index()\n",
    "\n",
    "\n",
    "# create function to do math problem \n",
    "def prof_num(sold, bought):\n",
    "    return sold - bought\n",
    "\n",
    "\n",
    "# create a dataframe that includes a 'Total Profit' column \n",
    "adornment_profit['Total Profit'] = adornment_profit.apply( \n",
    "    lambda x: prof_num(x['sold'], x['bought']), axis=1)\n",
    "\n",
    "\n",
    "# I only want to see customer_id and total profit in my resulting df\n",
    "adornment_profit = adornment_profit.iloc[:, [1, 9]]\n",
    "\n",
    "\n",
    "# to make it easier to count at a glance, I want to restart the index at 1\n",
    "adornment_profit.index = np.arange(1, len(adornment_profit) +1 )\n",
    "\n",
    "\n",
    "display(adornment_profit)"
   ]
  },
  {
   "cell_type": "code",
   "execution_count": 15,
   "id": "fc71419c",
   "metadata": {},
   "outputs": [
    {
     "data": {
      "text/html": [
       "<div>\n",
       "<style scoped>\n",
       "    .dataframe tbody tr th:only-of-type {\n",
       "        vertical-align: middle;\n",
       "    }\n",
       "\n",
       "    .dataframe tbody tr th {\n",
       "        vertical-align: top;\n",
       "    }\n",
       "\n",
       "    .dataframe thead th {\n",
       "        text-align: right;\n",
       "    }\n",
       "</style>\n",
       "<table border=\"1\" class=\"dataframe\">\n",
       "  <thead>\n",
       "    <tr style=\"text-align: right;\">\n",
       "      <th></th>\n",
       "      <th>customer_id</th>\n",
       "      <th>Total Profit</th>\n",
       "      <th>state</th>\n",
       "    </tr>\n",
       "  </thead>\n",
       "  <tbody>\n",
       "    <tr>\n",
       "      <th>0</th>\n",
       "      <td>4</td>\n",
       "      <td>158.64</td>\n",
       "      <td>California</td>\n",
       "    </tr>\n",
       "    <tr>\n",
       "      <th>1</th>\n",
       "      <td>25</td>\n",
       "      <td>26.20</td>\n",
       "      <td>Alabama</td>\n",
       "    </tr>\n",
       "    <tr>\n",
       "      <th>2</th>\n",
       "      <td>40</td>\n",
       "      <td>52.66</td>\n",
       "      <td>California</td>\n",
       "    </tr>\n",
       "    <tr>\n",
       "      <th>3</th>\n",
       "      <td>67</td>\n",
       "      <td>39.65</td>\n",
       "      <td>Alabama</td>\n",
       "    </tr>\n",
       "    <tr>\n",
       "      <th>4</th>\n",
       "      <td>76</td>\n",
       "      <td>177.72</td>\n",
       "      <td>Oregon</td>\n",
       "    </tr>\n",
       "    <tr>\n",
       "      <th>5</th>\n",
       "      <td>89</td>\n",
       "      <td>75.30</td>\n",
       "      <td>Louisiana</td>\n",
       "    </tr>\n",
       "    <tr>\n",
       "      <th>6</th>\n",
       "      <td>91</td>\n",
       "      <td>82.16</td>\n",
       "      <td>Wisconsin</td>\n",
       "    </tr>\n",
       "    <tr>\n",
       "      <th>7</th>\n",
       "      <td>93</td>\n",
       "      <td>41.57</td>\n",
       "      <td>Florida</td>\n",
       "    </tr>\n",
       "    <tr>\n",
       "      <th>8</th>\n",
       "      <td>94</td>\n",
       "      <td>82.11</td>\n",
       "      <td>Louisiana</td>\n",
       "    </tr>\n",
       "  </tbody>\n",
       "</table>\n",
       "</div>"
      ],
      "text/plain": [
       "   customer_id  Total Profit       state\n",
       "0            4        158.64  California\n",
       "1           25         26.20     Alabama\n",
       "2           40         52.66  California\n",
       "3           67         39.65     Alabama\n",
       "4           76        177.72      Oregon\n",
       "5           89         75.30   Louisiana\n",
       "6           91         82.16   Wisconsin\n",
       "7           93         41.57     Florida\n",
       "8           94         82.11   Louisiana"
      ]
     },
     "metadata": {},
     "output_type": "display_data"
    }
   ],
   "source": [
    "# I need to grab the state of my customer, held in the customer dataframe\n",
    "# I only want to include:\n",
    "#     'customer_id' and 'state' of purchase \n",
    "#              --- only from customer df\n",
    "\n",
    "# I need to combine the previous dataframe and one I created\n",
    "state_adornment_profit = pd.merge(adornment_profit, \n",
    "                                  customer_df.copy()[['customer_id','state']], \n",
    "                                  on='customer_id', how='left')\n",
    "\n",
    "display(state_adornment_profit)"
   ]
  },
  {
   "cell_type": "code",
   "execution_count": 16,
   "id": "2b454b2a",
   "metadata": {},
   "outputs": [
    {
     "data": {
      "text/plain": [
       "state\n",
       "Alabama        65.85\n",
       "California    211.30\n",
       "Florida        41.57\n",
       "Louisiana     157.41\n",
       "Oregon        177.72\n",
       "Wisconsin      82.16\n",
       "Name: Total Profit, dtype: float64"
      ]
     },
     "execution_count": 16,
     "metadata": {},
     "output_type": "execute_result"
    }
   ],
   "source": [
    "# I want to see total profit by state for my adornment pieces\n",
    "adorn_total_profit_state = state_adornment_profit.copy()\n",
    "\n",
    "# I want to see the state and total profit, but sum the profit per state\n",
    "adorn_total_profit_state = adorn_total_profit_state.groupby('state')['Total Profit'].sum()\n",
    "\n",
    "adorn_total_profit_state # outputs series"
   ]
  },
  {
   "cell_type": "code",
   "execution_count": 17,
   "id": "10f1e676",
   "metadata": {},
   "outputs": [
    {
     "name": "stdout",
     "output_type": "stream",
     "text": [
      "Total profit from selling shoe adornments amounts to  ------->  $ 736.01\n"
     ]
    }
   ],
   "source": [
    "# I want to add those profit totals together\n",
    "# first gather the totals into a list\n",
    "gather_profit_states_adorned = adorn_total_profit_state.to_numpy()\n",
    "\n",
    "\n",
    "# add all the numbers of the list together\n",
    "total_adornment_profit = gather_profit_states_adorned.sum()\n",
    "\n",
    "\n",
    "# create labels\n",
    "states_list = adorn_total_profit_state.keys().tolist()\n",
    "\n",
    "print(\"Total profit from selling shoe adornments amounts to  ------->  $\",total_adornment_profit)"
   ]
  },
  {
   "cell_type": "code",
   "execution_count": 18,
   "id": "bbe7bb70",
   "metadata": {
    "scrolled": true
   },
   "outputs": [
    {
     "data": {
      "image/png": "[encoded data removed]",
      "text/plain": [
       "<Figure size 400x400 with 1 Axes>"
      ]
     },
     "metadata": {},
     "output_type": "display_data"
    }
   ],
   "source": [
    "# What's that look like as a pie chart?\n",
    "\n",
    "st_adorn_pie = plt.pie(gather_profit_states_adorned, \n",
    "                       labels=states_list, \n",
    "                       startangle=90, \n",
    "                       autopct='%.1f%%')\n",
    "\n",
    "\n",
    "fig = plt.gcf()              # get current figure -> st_adorn_pie pie chart\n",
    "\n",
    "fig.set_size_inches(4,4)     # set size of pie chart\n",
    "\n",
    "plt.tight_layout()           # minimize space / adjust padding of visual display"
   ]
  },
  {
   "cell_type": "markdown",
   "id": "4b5696fd",
   "metadata": {},
   "source": [
    "So we know that California, Oregon, and Louisiana are holding my highest-paying adornment investors. If I were looking to market my adornments to grow my clientele, I would start in these areas.\n",
    "\n",
    "-------------------------------------------------------\n",
    "\n",
    "\n",
    "This particular visual may entice more questions, such as: \n",
    "* Does my adornment market align with my highest-paying investors for shoe designs currently? \n",
    "* Would I need to separate focus between marketing campaigns in different locations to keep my products afloat? \n",
    "* How would I go about consolidating clientele to provide the ideal location for a storefront?"
   ]
  },
  {
   "cell_type": "markdown",
   "id": "b2c1850e",
   "metadata": {},
   "source": [
    "## Time to calculate total profit from each order"
   ]
  },
  {
   "cell_type": "code",
   "execution_count": 19,
   "id": "73c98128",
   "metadata": {},
   "outputs": [
    {
     "data": {
      "text/html": [
       "<div>\n",
       "<style scoped>\n",
       "    .dataframe tbody tr th:only-of-type {\n",
       "        vertical-align: middle;\n",
       "    }\n",
       "\n",
       "    .dataframe tbody tr th {\n",
       "        vertical-align: top;\n",
       "    }\n",
       "\n",
       "    .dataframe thead th {\n",
       "        text-align: right;\n",
       "    }\n",
       "</style>\n",
       "<table border=\"1\" class=\"dataframe\">\n",
       "  <thead>\n",
       "    <tr style=\"text-align: right;\">\n",
       "      <th></th>\n",
       "      <th>customer_id</th>\n",
       "      <th>package</th>\n",
       "      <th>design</th>\n",
       "      <th>sold</th>\n",
       "      <th>payment</th>\n",
       "      <th>bought</th>\n",
       "      <th>sku</th>\n",
       "      <th>brand</th>\n",
       "      <th>Total Profit</th>\n",
       "    </tr>\n",
       "  </thead>\n",
       "  <tbody>\n",
       "    <tr>\n",
       "      <th>0</th>\n",
       "      <td>1</td>\n",
       "      <td>P1</td>\n",
       "      <td>416</td>\n",
       "      <td>1396.85</td>\n",
       "      <td>mastercard</td>\n",
       "      <td>250.00</td>\n",
       "      <td>0</td>\n",
       "      <td>NK</td>\n",
       "      <td>1146.85</td>\n",
       "    </tr>\n",
       "    <tr>\n",
       "      <th>1</th>\n",
       "      <td>2</td>\n",
       "      <td>P2</td>\n",
       "      <td>293</td>\n",
       "      <td>1741.29</td>\n",
       "      <td>mastercard</td>\n",
       "      <td>250.00</td>\n",
       "      <td>0</td>\n",
       "      <td>NK</td>\n",
       "      <td>1491.29</td>\n",
       "    </tr>\n",
       "    <tr>\n",
       "      <th>2</th>\n",
       "      <td>3</td>\n",
       "      <td>P3</td>\n",
       "      <td>888</td>\n",
       "      <td>476.13</td>\n",
       "      <td>mastercard</td>\n",
       "      <td>250.00</td>\n",
       "      <td>0</td>\n",
       "      <td>NK</td>\n",
       "      <td>226.13</td>\n",
       "    </tr>\n",
       "    <tr>\n",
       "      <th>3</th>\n",
       "      <td>4</td>\n",
       "      <td>P4</td>\n",
       "      <td>873</td>\n",
       "      <td>208.87</td>\n",
       "      <td>mastercard</td>\n",
       "      <td>50.23</td>\n",
       "      <td>11003234</td>\n",
       "      <td></td>\n",
       "      <td>158.64</td>\n",
       "    </tr>\n",
       "    <tr>\n",
       "      <th>4</th>\n",
       "      <td>5</td>\n",
       "      <td>P5</td>\n",
       "      <td>627</td>\n",
       "      <td>900.88</td>\n",
       "      <td>mastercard</td>\n",
       "      <td>250.00</td>\n",
       "      <td>0</td>\n",
       "      <td>NK</td>\n",
       "      <td>650.88</td>\n",
       "    </tr>\n",
       "    <tr>\n",
       "      <th>5</th>\n",
       "      <td>6</td>\n",
       "      <td>P6</td>\n",
       "      <td>975</td>\n",
       "      <td>742.84</td>\n",
       "      <td>mastercard</td>\n",
       "      <td>250.00</td>\n",
       "      <td>0</td>\n",
       "      <td>NK</td>\n",
       "      <td>492.84</td>\n",
       "    </tr>\n",
       "    <tr>\n",
       "      <th>6</th>\n",
       "      <td>7</td>\n",
       "      <td>P7</td>\n",
       "      <td>271</td>\n",
       "      <td>1720.90</td>\n",
       "      <td>visa</td>\n",
       "      <td>250.00</td>\n",
       "      <td>0</td>\n",
       "      <td>NK</td>\n",
       "      <td>1470.90</td>\n",
       "    </tr>\n",
       "    <tr>\n",
       "      <th>7</th>\n",
       "      <td>8</td>\n",
       "      <td>P8</td>\n",
       "      <td>157</td>\n",
       "      <td>857.19</td>\n",
       "      <td>mastercard</td>\n",
       "      <td>250.00</td>\n",
       "      <td>0</td>\n",
       "      <td>NK</td>\n",
       "      <td>607.19</td>\n",
       "    </tr>\n",
       "    <tr>\n",
       "      <th>8</th>\n",
       "      <td>9</td>\n",
       "      <td>P9</td>\n",
       "      <td>244</td>\n",
       "      <td>1792.40</td>\n",
       "      <td>mastercard</td>\n",
       "      <td>250.00</td>\n",
       "      <td>0</td>\n",
       "      <td>NK</td>\n",
       "      <td>1542.40</td>\n",
       "    </tr>\n",
       "    <tr>\n",
       "      <th>9</th>\n",
       "      <td>10</td>\n",
       "      <td>P10</td>\n",
       "      <td>426</td>\n",
       "      <td>1660.81</td>\n",
       "      <td>visa</td>\n",
       "      <td>250.00</td>\n",
       "      <td>0</td>\n",
       "      <td>NK</td>\n",
       "      <td>1410.81</td>\n",
       "    </tr>\n",
       "  </tbody>\n",
       "</table>\n",
       "</div>"
      ],
      "text/plain": [
       "   customer_id package  design     sold     payment  bought       sku brand  \\\n",
       "0            1      P1     416  1396.85  mastercard  250.00         0    NK   \n",
       "1            2      P2     293  1741.29  mastercard  250.00         0    NK   \n",
       "2            3      P3     888   476.13  mastercard  250.00         0    NK   \n",
       "3            4      P4     873   208.87  mastercard   50.23  11003234         \n",
       "4            5      P5     627   900.88  mastercard  250.00         0    NK   \n",
       "5            6      P6     975   742.84  mastercard  250.00         0    NK   \n",
       "6            7      P7     271  1720.90        visa  250.00         0    NK   \n",
       "7            8      P8     157   857.19  mastercard  250.00         0    NK   \n",
       "8            9      P9     244  1792.40  mastercard  250.00         0    NK   \n",
       "9           10     P10     426  1660.81        visa  250.00         0    NK   \n",
       "\n",
       "   Total Profit  \n",
       "0       1146.85  \n",
       "1       1491.29  \n",
       "2        226.13  \n",
       "3        158.64  \n",
       "4        650.88  \n",
       "5        492.84  \n",
       "6       1470.90  \n",
       "7        607.19  \n",
       "8       1542.40  \n",
       "9       1410.81  "
      ]
     },
     "execution_count": 19,
     "metadata": {},
     "output_type": "execute_result"
    }
   ],
   "source": [
    "# establish working df\n",
    "profit = profit_df.copy()\n",
    "\n",
    "\n",
    "# take care of the missing SKU values\n",
    "profit = profit.fillna(0)             # I know 0 is an invalid SKU number, so it will work here for now.\n",
    "\n",
    "\n",
    "# now let's cast sku from float to integer like it should be\n",
    "profit['sku'] = profit['sku'].astype(int)\n",
    "    \n",
    "    \n",
    "# create dataframe with profit column    \n",
    "profit['Total Profit'] = profit.apply( \n",
    "    lambda x: prof_num(x['sold'], \n",
    "                       x['bought']), axis=1) \n",
    "\n",
    "\n",
    "profit.head(10) # display only ten results"
   ]
  },
  {
   "cell_type": "markdown",
   "id": "40a838e4",
   "metadata": {},
   "source": [
    "### Quick Overview for card payment types"
   ]
  },
  {
   "cell_type": "code",
   "execution_count": 21,
   "id": "781fd0c1",
   "metadata": {},
   "outputs": [
    {
     "name": "stdout",
     "output_type": "stream",
     "text": [
      "My Business Accepted A Total of:\n",
      " \n",
      "90 Mastercards\n",
      "10 Visa Cards\n"
     ]
    }
   ],
   "source": [
    "# hold the payment column in a variable\n",
    "cards = profit['payment']\n",
    "\n",
    "\n",
    "# every time 'mastercard' appears in the column, \n",
    "# it is counted as a 1 and then added together\n",
    "# and produced as an integer type\n",
    "mastercards = int(cards.str.count('mastercard').sum())\n",
    "\n",
    "\n",
    "# again, 'visa' is counted as a 1\n",
    "# every time it appears in the payment column\n",
    "# and all those 1's are added together\n",
    "# that sum is cast into an integer and held in the visacards variable. \n",
    "visacards = int(cards.str.count('visa').sum())\n",
    "\n",
    "\n",
    "print(\"My Business Accepted A Total of:\", end='\\n \\n')\n",
    "print(mastercards, \"Mastercards\")\n",
    "print(visacards, \"Visa Cards\")"
   ]
  },
  {
   "cell_type": "code",
   "execution_count": 22,
   "id": "848c351b",
   "metadata": {},
   "outputs": [
    {
     "data": {
      "image/png": "[encoded data removed]",
      "text/plain": [
       "<Figure size 400x400 with 1 Axes>"
      ]
     },
     "metadata": {},
     "output_type": "display_data"
    }
   ],
   "source": [
    "# Cannot insert magical numbers. \n",
    "# Must convert int values from block above into matplotlib friendly format\n",
    "\n",
    "# create list for np array\n",
    "card_list = []\n",
    "\n",
    "# insert numeric values for the array\n",
    "card_list = [mastercards, visacards]\n",
    "\n",
    "# create pie chart labels\n",
    "labels = ['Mastercard', 'Visa Card']\n",
    "\n",
    "\n",
    "# create array\n",
    "card_chart = np.array(card_list)\n",
    "\n",
    "# make pie chart smaller\n",
    "fig, ax = plt.subplots(figsize=(4, 4))\n",
    "\n",
    "# show card chart array with labels and percentages\n",
    "plt.pie(card_chart, labels=labels, autopct='%.1f%%',\n",
    "        \n",
    "        # display wedge separation \n",
    "       wedgeprops={'linewidth': 3.0, 'edgecolor': 'w'},\n",
    "        \n",
    "        # text pieces\n",
    "       textprops={'size': 'medium', 'color': 'k'})\n",
    "\n",
    "# remove extra text\n",
    "plt.tight_layout()"
   ]
  },
  {
   "cell_type": "code",
   "execution_count": 23,
   "id": "81bdc026",
   "metadata": {},
   "outputs": [
    {
     "data": {
      "text/html": [
       "<div>\n",
       "<style scoped>\n",
       "    .dataframe tbody tr th:only-of-type {\n",
       "        vertical-align: middle;\n",
       "    }\n",
       "\n",
       "    .dataframe tbody tr th {\n",
       "        vertical-align: top;\n",
       "    }\n",
       "\n",
       "    .dataframe thead th {\n",
       "        text-align: right;\n",
       "    }\n",
       "</style>\n",
       "<table border=\"1\" class=\"dataframe\">\n",
       "  <thead>\n",
       "    <tr style=\"text-align: right;\">\n",
       "      <th></th>\n",
       "      <th>customer_id</th>\n",
       "      <th>design</th>\n",
       "      <th>sku</th>\n",
       "      <th>Total Profit</th>\n",
       "    </tr>\n",
       "  </thead>\n",
       "  <tbody>\n",
       "    <tr>\n",
       "      <th>0</th>\n",
       "      <td>1</td>\n",
       "      <td>416</td>\n",
       "      <td>0</td>\n",
       "      <td>1146.85</td>\n",
       "    </tr>\n",
       "    <tr>\n",
       "      <th>1</th>\n",
       "      <td>2</td>\n",
       "      <td>293</td>\n",
       "      <td>0</td>\n",
       "      <td>1491.29</td>\n",
       "    </tr>\n",
       "    <tr>\n",
       "      <th>2</th>\n",
       "      <td>3</td>\n",
       "      <td>888</td>\n",
       "      <td>0</td>\n",
       "      <td>226.13</td>\n",
       "    </tr>\n",
       "    <tr>\n",
       "      <th>3</th>\n",
       "      <td>4</td>\n",
       "      <td>873</td>\n",
       "      <td>11003234</td>\n",
       "      <td>158.64</td>\n",
       "    </tr>\n",
       "    <tr>\n",
       "      <th>4</th>\n",
       "      <td>5</td>\n",
       "      <td>627</td>\n",
       "      <td>0</td>\n",
       "      <td>650.88</td>\n",
       "    </tr>\n",
       "    <tr>\n",
       "      <th>...</th>\n",
       "      <td>...</td>\n",
       "      <td>...</td>\n",
       "      <td>...</td>\n",
       "      <td>...</td>\n",
       "    </tr>\n",
       "    <tr>\n",
       "      <th>95</th>\n",
       "      <td>96</td>\n",
       "      <td>376</td>\n",
       "      <td>0</td>\n",
       "      <td>1025.94</td>\n",
       "    </tr>\n",
       "    <tr>\n",
       "      <th>96</th>\n",
       "      <td>97</td>\n",
       "      <td>289</td>\n",
       "      <td>0</td>\n",
       "      <td>649.91</td>\n",
       "    </tr>\n",
       "    <tr>\n",
       "      <th>97</th>\n",
       "      <td>98</td>\n",
       "      <td>831</td>\n",
       "      <td>0</td>\n",
       "      <td>821.91</td>\n",
       "    </tr>\n",
       "    <tr>\n",
       "      <th>98</th>\n",
       "      <td>99</td>\n",
       "      <td>214</td>\n",
       "      <td>0</td>\n",
       "      <td>986.24</td>\n",
       "    </tr>\n",
       "    <tr>\n",
       "      <th>99</th>\n",
       "      <td>100</td>\n",
       "      <td>301</td>\n",
       "      <td>0</td>\n",
       "      <td>2066.11</td>\n",
       "    </tr>\n",
       "  </tbody>\n",
       "</table>\n",
       "<p>100 rows × 4 columns</p>\n",
       "</div>"
      ],
      "text/plain": [
       "    customer_id  design       sku  Total Profit\n",
       "0             1     416         0       1146.85\n",
       "1             2     293         0       1491.29\n",
       "2             3     888         0        226.13\n",
       "3             4     873  11003234        158.64\n",
       "4             5     627         0        650.88\n",
       "..          ...     ...       ...           ...\n",
       "95           96     376         0       1025.94\n",
       "96           97     289         0        649.91\n",
       "97           98     831         0        821.91\n",
       "98           99     214         0        986.24\n",
       "99          100     301         0       2066.11\n",
       "\n",
       "[100 rows x 4 columns]"
      ]
     },
     "metadata": {},
     "output_type": "display_data"
    }
   ],
   "source": [
    "# create clean new variable to hold dataframe\n",
    "profit_statement = profit\n",
    "\n",
    "# display only necessary columns\n",
    "profit_statement = profit_statement.iloc[:, [0, 2, 6, 8]]\n",
    "\n",
    "display(profit_statement)"
   ]
  },
  {
   "cell_type": "markdown",
   "id": "9ca69a63",
   "metadata": {},
   "source": [
    "### Again, I need an idea of which states the income came from."
   ]
  },
  {
   "cell_type": "code",
   "execution_count": 24,
   "id": "6592bba8",
   "metadata": {},
   "outputs": [
    {
     "data": {
      "text/html": [
       "<div>\n",
       "<style scoped>\n",
       "    .dataframe tbody tr th:only-of-type {\n",
       "        vertical-align: middle;\n",
       "    }\n",
       "\n",
       "    .dataframe tbody tr th {\n",
       "        vertical-align: top;\n",
       "    }\n",
       "\n",
       "    .dataframe thead th {\n",
       "        text-align: right;\n",
       "    }\n",
       "</style>\n",
       "<table border=\"1\" class=\"dataframe\">\n",
       "  <thead>\n",
       "    <tr style=\"text-align: right;\">\n",
       "      <th></th>\n",
       "      <th>customer_id</th>\n",
       "      <th>design</th>\n",
       "      <th>sku</th>\n",
       "      <th>Total Profit</th>\n",
       "      <th>state</th>\n",
       "    </tr>\n",
       "  </thead>\n",
       "  <tbody>\n",
       "    <tr>\n",
       "      <th>0</th>\n",
       "      <td>1</td>\n",
       "      <td>416</td>\n",
       "      <td>0</td>\n",
       "      <td>1146.85</td>\n",
       "      <td>Florida</td>\n",
       "    </tr>\n",
       "    <tr>\n",
       "      <th>1</th>\n",
       "      <td>2</td>\n",
       "      <td>293</td>\n",
       "      <td>0</td>\n",
       "      <td>1491.29</td>\n",
       "      <td>California</td>\n",
       "    </tr>\n",
       "    <tr>\n",
       "      <th>2</th>\n",
       "      <td>3</td>\n",
       "      <td>888</td>\n",
       "      <td>0</td>\n",
       "      <td>226.13</td>\n",
       "      <td>Florida</td>\n",
       "    </tr>\n",
       "    <tr>\n",
       "      <th>3</th>\n",
       "      <td>4</td>\n",
       "      <td>873</td>\n",
       "      <td>11003234</td>\n",
       "      <td>158.64</td>\n",
       "      <td>California</td>\n",
       "    </tr>\n",
       "    <tr>\n",
       "      <th>4</th>\n",
       "      <td>5</td>\n",
       "      <td>627</td>\n",
       "      <td>0</td>\n",
       "      <td>650.88</td>\n",
       "      <td>Florida</td>\n",
       "    </tr>\n",
       "    <tr>\n",
       "      <th>...</th>\n",
       "      <td>...</td>\n",
       "      <td>...</td>\n",
       "      <td>...</td>\n",
       "      <td>...</td>\n",
       "      <td>...</td>\n",
       "    </tr>\n",
       "    <tr>\n",
       "      <th>95</th>\n",
       "      <td>96</td>\n",
       "      <td>376</td>\n",
       "      <td>0</td>\n",
       "      <td>1025.94</td>\n",
       "      <td>Florida</td>\n",
       "    </tr>\n",
       "    <tr>\n",
       "      <th>96</th>\n",
       "      <td>97</td>\n",
       "      <td>289</td>\n",
       "      <td>0</td>\n",
       "      <td>649.91</td>\n",
       "      <td>California</td>\n",
       "    </tr>\n",
       "    <tr>\n",
       "      <th>97</th>\n",
       "      <td>98</td>\n",
       "      <td>831</td>\n",
       "      <td>0</td>\n",
       "      <td>821.91</td>\n",
       "      <td>Florida</td>\n",
       "    </tr>\n",
       "    <tr>\n",
       "      <th>98</th>\n",
       "      <td>99</td>\n",
       "      <td>214</td>\n",
       "      <td>0</td>\n",
       "      <td>986.24</td>\n",
       "      <td>Florida</td>\n",
       "    </tr>\n",
       "    <tr>\n",
       "      <th>99</th>\n",
       "      <td>100</td>\n",
       "      <td>301</td>\n",
       "      <td>0</td>\n",
       "      <td>2066.11</td>\n",
       "      <td>Georgia</td>\n",
       "    </tr>\n",
       "  </tbody>\n",
       "</table>\n",
       "<p>100 rows × 5 columns</p>\n",
       "</div>"
      ],
      "text/plain": [
       "    customer_id  design       sku  Total Profit       state\n",
       "0             1     416         0       1146.85     Florida\n",
       "1             2     293         0       1491.29  California\n",
       "2             3     888         0        226.13     Florida\n",
       "3             4     873  11003234        158.64  California\n",
       "4             5     627         0        650.88     Florida\n",
       "..          ...     ...       ...           ...         ...\n",
       "95           96     376         0       1025.94     Florida\n",
       "96           97     289         0        649.91  California\n",
       "97           98     831         0        821.91     Florida\n",
       "98           99     214         0        986.24     Florida\n",
       "99          100     301         0       2066.11     Georgia\n",
       "\n",
       "[100 rows x 5 columns]"
      ]
     },
     "metadata": {},
     "output_type": "display_data"
    }
   ],
   "source": [
    "# I need to grab the state of my customer, held in another dataframe\n",
    "# I only want to include 'customer_id' and 'state' of purchase only from that customer dataframe\n",
    "# I need to combine the previous dataframe and one I just created\n",
    "total_profit_by_state = pd.merge(profit_statement, \n",
    "                                 customer_df.copy()[['customer_id','state']], \n",
    "                                 on='customer_id', how='left')\n",
    "\n",
    "display(total_profit_by_state)"
   ]
  },
  {
   "cell_type": "markdown",
   "id": "95b7ea93",
   "metadata": {},
   "source": [
    "#### I decide I want to condense the profit table into a document I can evaluate later."
   ]
  },
  {
   "cell_type": "code",
   "execution_count": 25,
   "id": "aeec4829",
   "metadata": {},
   "outputs": [],
   "source": [
    "# send to csv\n",
    "total_profit_by_state.to_csv(r'info/total_profit_by_state.csv', \n",
    "                             index= False) # do not include index in file"
   ]
  },
  {
   "cell_type": "markdown",
   "id": "6ed26c44",
   "metadata": {},
   "source": [
    "### I want a deeper look at profit by state"
   ]
  },
  {
   "cell_type": "code",
   "execution_count": 33,
   "id": "9fed634b",
   "metadata": {},
   "outputs": [
    {
     "data": {
      "text/html": [
       "<div>\n",
       "<style scoped>\n",
       "    .dataframe tbody tr th:only-of-type {\n",
       "        vertical-align: middle;\n",
       "    }\n",
       "\n",
       "    .dataframe tbody tr th {\n",
       "        vertical-align: top;\n",
       "    }\n",
       "\n",
       "    .dataframe thead th {\n",
       "        text-align: right;\n",
       "    }\n",
       "</style>\n",
       "<table border=\"1\" class=\"dataframe\">\n",
       "  <thead>\n",
       "    <tr style=\"text-align: right;\">\n",
       "      <th></th>\n",
       "      <th>Average Profit</th>\n",
       "    </tr>\n",
       "    <tr>\n",
       "      <th>state</th>\n",
       "      <th></th>\n",
       "    </tr>\n",
       "  </thead>\n",
       "  <tbody>\n",
       "    <tr>\n",
       "      <th>Georgia</th>\n",
       "      <td>2141.08</td>\n",
       "    </tr>\n",
       "    <tr>\n",
       "      <th>Minnesota</th>\n",
       "      <td>1691.15</td>\n",
       "    </tr>\n",
       "    <tr>\n",
       "      <th>Florida</th>\n",
       "      <td>1325.80</td>\n",
       "    </tr>\n",
       "    <tr>\n",
       "      <th>California</th>\n",
       "      <td>1282.68</td>\n",
       "    </tr>\n",
       "    <tr>\n",
       "      <th>Michigan</th>\n",
       "      <td>1101.26</td>\n",
       "    </tr>\n",
       "    <tr>\n",
       "      <th>Wisconsin</th>\n",
       "      <td>944.18</td>\n",
       "    </tr>\n",
       "    <tr>\n",
       "      <th>Alabama</th>\n",
       "      <td>755.79</td>\n",
       "    </tr>\n",
       "    <tr>\n",
       "      <th>Louisiana</th>\n",
       "      <td>684.67</td>\n",
       "    </tr>\n",
       "    <tr>\n",
       "      <th>Oregon</th>\n",
       "      <td>406.88</td>\n",
       "    </tr>\n",
       "  </tbody>\n",
       "</table>\n",
       "</div>"
      ],
      "text/plain": [
       "            Average Profit\n",
       "state                     \n",
       "Georgia            2141.08\n",
       "Minnesota          1691.15\n",
       "Florida            1325.80\n",
       "California         1282.68\n",
       "Michigan           1101.26\n",
       "Wisconsin           944.18\n",
       "Alabama             755.79\n",
       "Louisiana           684.67\n",
       "Oregon              406.88"
      ]
     },
     "metadata": {},
     "output_type": "display_data"
    }
   ],
   "source": [
    "# which state was the item ordered from\n",
    "state_pivot = total_profit_by_state.copy()\n",
    "\n",
    "\n",
    "\n",
    "# create a pivot table grouping 'Total Profit' by states\n",
    "# give me an average of the sales for that state\n",
    "# cast the result into a number rounded up to two decimal points\n",
    "state_pivot = round(state_pivot.groupby('state')[['Total Profit']].mean(), 2)\n",
    "\n",
    "\n",
    "\n",
    "# sort by profit instead of alphabetical order of states\n",
    "state_pivot = state_pivot.sort_values('Total Profit', ascending=False)\n",
    "\n",
    "# rename 'Total Profit' column because we just took the average\n",
    "state_pivot.columns = ['Average Profit']\n",
    "\n",
    "# list of states in order of most profitable to least\n",
    "display(state_pivot)"
   ]
  },
  {
   "cell_type": "code",
   "execution_count": 30,
   "id": "854149ec",
   "metadata": {},
   "outputs": [
    {
     "data": {
      "image/png": "[encoded data removed]",
      "text/plain": [
       "<Figure size 640x480 with 1 Axes>"
      ]
     },
     "metadata": {},
     "output_type": "display_data"
    }
   ],
   "source": [
    "# establish bar graph for overall idea of adornment profitability\n",
    "state_pivot_graph = state_pivot.plot(kind='bar',\n",
    "                                     color='b',    # set blue color\n",
    "                                     xlabel='')    # clear state label from x-axis\n",
    "\n",
    "# clean output \n",
    "plt.tight_layout()\n",
    "\n",
    "# This bar graph displays each state I did business in\n",
    "# For each state, approximately how much profit was made\n",
    "#   combined from:\n",
    "#       custom designs \n",
    "#    and \n",
    "#       shoe adornments"
   ]
  },
  {
   "cell_type": "markdown",
   "id": "fdecea2a",
   "metadata": {},
   "source": [
    "Well, that is NOT California, Oregon, or Louisiana in my top three when we add shoe designs back in the mix. It appears that I may have two separate markets in varying areas. California is still pulling strong, but it may take some more marketing techniques to raise brand awareness and grow the investor base."
   ]
  },
  {
   "cell_type": "markdown",
   "id": "5453a618",
   "metadata": {},
   "source": [
    "# Tableau Dashboard\n",
    "\n",
    "To dig in deeper to the data so I can answer ambitious questions regarding storefront placements, I have created a sample Tableau Dashboard from the data available. It will give an idea of the timeline of sales as well.\n",
    "\n",
    "[Click here to be directed to the Public Workbook](https://public.tableau.com/app/profile/jodie.mullins/viz/DemoDashboardPreview/PinPointAreas)"
   ]
  },
  {
   "cell_type": "code",
   "execution_count": 34,
   "id": "0235da4f",
   "metadata": {},
   "outputs": [],
   "source": [
    "conn.close() #close database"
   ]
  },
  {
   "cell_type": "markdown",
   "id": "1eaffead",
   "metadata": {},
   "source": [
    "# REMINDER\n",
    "\n",
    "The final project has a .py file creating a database from three separate file sources to get to the information achieved in this notebook. I had specifically arranged the final project (that is not yet complete as of 10/ 28/ 2023 hence this preview) in such a way to be as visually appealing as possible, so removing unnecessary query script seemed appropriate."
   ]
  }
 ],
 "metadata": {
  "kernelspec": {
   "display_name": "Python 3 (ipykernel)",
   "language": "python",
   "name": "python3"
  },
  "language_info": {
   "codemirror_mode": {
    "name": "ipython",
    "version": 3
   },
   "file_extension": ".py",
   "mimetype": "text/x-python",
   "name": "python",
   "nbconvert_exporter": "python",
   "pygments_lexer": "ipython3",
   "version": "3.10.12"
  }
 },
 "nbformat": 4,
 "nbformat_minor": 5
}
